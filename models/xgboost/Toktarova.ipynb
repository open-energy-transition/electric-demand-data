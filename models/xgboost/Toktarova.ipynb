{
 "cells": [
  {
   "cell_type": "code",
   "execution_count": null,
   "id": "0",
   "metadata": {},
   "outputs": [],
   "source": [
    "import os\n",
    "\n",
    "import numpy\n",
    "import pandas\n",
    "import yaml\n",
    "from tqdm import tqdm"
   ]
  },
  {
   "cell_type": "code",
   "execution_count": null,
   "id": "1",
   "metadata": {},
   "outputs": [],
   "source": [
    "import matplotlib.pyplot as plt\n",
    "\n",
    "figure_directory = \"./figures\"\n",
    "os.makedirs(figure_directory, exist_ok=True)"
   ]
  },
  {
   "cell_type": "code",
   "execution_count": null,
   "id": "2",
   "metadata": {},
   "outputs": [],
   "source": [
    "os.listdir(\"./data/toktarova_et_al_2019/\")"
   ]
  },
  {
   "cell_type": "code",
   "execution_count": null,
   "id": "3",
   "metadata": {},
   "outputs": [],
   "source": [
    "with open(\"./data/gegis__all_countries.yaml\", \"r\") as file:\n",
    "    data = yaml.safe_load(file)"
   ]
  },
  {
   "cell_type": "code",
   "execution_count": null,
   "id": "4",
   "metadata": {},
   "outputs": [],
   "source": [
    "items = data[\"items\"]\n",
    "gegis_countries = [\n",
    "    [item[\"country_name\"], item[\"country_code\"]] for item in items\n",
    "]"
   ]
  },
  {
   "cell_type": "code",
   "execution_count": null,
   "id": "5",
   "metadata": {},
   "outputs": [],
   "source": [
    "gegis_country_codes = numpy.array(gegis_countries).T[1]"
   ]
  },
  {
   "cell_type": "code",
   "execution_count": null,
   "id": "6",
   "metadata": {},
   "outputs": [],
   "source": [
    "gegis_countries"
   ]
  },
  {
   "cell_type": "markdown",
   "id": "7",
   "metadata": {},
   "source": [
    "## Features\n",
    "\n",
    "\"\"\"\n",
    "\n",
    "We take time series of hourly electricity demand for 44 countries from Toktarova et al. [15] and fit a gradient boosting regression model [32] to demand time series for each country normalized to their annual mean\n",
    "\n",
    "Estimates of annual country-level annual electricity generation in 2050 were produced by extrapolating annual demand in 2016 [33] using regional demand growth in the SSP2-26 scenario\n",
    "\n",
    "Therefore we chose to train our model on ten independent var­\n",
    "iables: \n",
    "\n",
    "(i + ii) annual per-capita electricity demand and purchase-power adjusted GDP (for prediction, we extrapolated this to 2050 using the SSP2 scenario in a similar way to demand as above), \n",
    "\n",
    "(iii) average hourly temperature profiles over the year in the 3 most densely populated areas of each country [35,36], \n",
    "\n",
    "(iv) the mean annual temperature level,\n",
    "\n",
    "(v) the 1st temperature percentile across the year (to represent how low the temperature dips go),\n",
    "\n",
    "(vi) the 99th percentile (to represent how high temperature spikes go),\n",
    "\n",
    "(vii) hour of the day,\n",
    "\n",
    "(viii) a weekday/weekend indicator,\n",
    "\n",
    "(ix) mean monthly temperature levels, and\n",
    "\n",
    "(x) a temperature-based ranking of months of the year\n",
    "(where the first month is the coldest month, and the month ranked last is the warmest across the year).\n",
    "The temperature ranking of months was chosen in order to reflect that different countries have summer in different calendar months.\n",
    "\n",
    "\"\"\"\n",
    "\n"
   ]
  },
  {
   "cell_type": "markdown",
   "id": "8",
   "metadata": {},
   "source": [
    "### (i) annual per-capita electricity demand"
   ]
  },
  {
   "cell_type": "code",
   "execution_count": null,
   "id": "9",
   "metadata": {},
   "outputs": [],
   "source": [
    "ElectricityPerCapita = pandas.read_csv(\n",
    "    \"./data/toktarova_et_al_2019/ElectricityperCapita.csv\",\n",
    "    index_col=0,\n",
    "    header=1,\n",
    ")"
   ]
  },
  {
   "cell_type": "code",
   "execution_count": null,
   "id": "10",
   "metadata": {},
   "outputs": [],
   "source": [
    "ElectricityPerCapita.columns = [\n",
    "    int(float(col_name)) if col_name.split(\".\")[0].isdigit() else col_name\n",
    "    for col_name in ElectricityPerCapita.columns\n",
    "]"
   ]
  },
  {
   "cell_type": "code",
   "execution_count": null,
   "id": "11",
   "metadata": {},
   "outputs": [],
   "source": [
    "ElectricityPerCapita.head()"
   ]
  },
  {
   "cell_type": "code",
   "execution_count": null,
   "id": "12",
   "metadata": {},
   "outputs": [],
   "source": [
    "import pycountry\n",
    "\n",
    "\n",
    "def search_pycountry(country_name: str) -> str | None:\n",
    "    \"\"\"\n",
    "    Retrieve the country code using the pycountry library.\n",
    "\n",
    "    Returns\n",
    "    -------\n",
    "    country.alpha_2:\n",
    "        ISO alpha-2 code of the country.\n",
    "        None if the country is not found.\n",
    "    \"\"\"\n",
    "    try:\n",
    "        # Try to find the country\n",
    "        country = pycountry.countries.search_fuzzy(country_name)[0]\n",
    "        return country.alpha_2\n",
    "    except LookupError:\n",
    "        return None\n",
    "\n",
    "\n",
    "def get_country_codes(country_names):\n",
    "    \"\"\"\n",
    "    Retrieve the ISO alpha-2 codes for all country names.\n",
    "\n",
    "    Parameters\n",
    "    ----------\n",
    "    country_names: list of str\n",
    "        List of country names.\n",
    "\n",
    "    Returns\n",
    "    -------\n",
    "    list of str\n",
    "        List of ISO alpha-2 codes respective to the input country names.\n",
    "    \"\"\"\n",
    "    country_codes = []\n",
    "    for country_name in country_names:\n",
    "        found_country_code = search_pycountry(country_name)\n",
    "        if not (found_country_code):\n",
    "            print(\"Not Found:\", country_name)\n",
    "\n",
    "        country_codes.append(found_country_code)\n",
    "    return country_codes"
   ]
  },
  {
   "cell_type": "code",
   "execution_count": null,
   "id": "13",
   "metadata": {},
   "outputs": [],
   "source": [
    "ElectricityPerCapita.insert(\n",
    "    1, \"country_code\", get_country_codes(ElectricityPerCapita[\"Countries\"])\n",
    ")"
   ]
  },
  {
   "cell_type": "code",
   "execution_count": null,
   "id": "14",
   "metadata": {},
   "outputs": [],
   "source": [
    "# Print gegis countries not found by search\n",
    "for code in gegis_country_codes:\n",
    "    if code not in ElectricityPerCapita[\"country_code\"].to_numpy():\n",
    "        print(code)"
   ]
  },
  {
   "cell_type": "code",
   "execution_count": null,
   "id": "15",
   "metadata": {},
   "outputs": [],
   "source": [
    "# Adjust the missing countries\n",
    "index_cc_BA = ElectricityPerCapita[\n",
    "    ElectricityPerCapita[\"Countries\"] == \"Bosnia-Herzegovina\"\n",
    "].index\n",
    "ElectricityPerCapita.loc[index_cc_BA, \"country_code\"] = \"BA\"\n",
    "\n",
    "index_cc_RS = ElectricityPerCapita[\n",
    "    ElectricityPerCapita[\"Countries\"] == \"Serbia (former Yugoslavia)\"\n",
    "].index\n",
    "ElectricityPerCapita.loc[index_cc_RS, \"country_code\"] = \"RS\"\n",
    "\n",
    "index_cc_KR = ElectricityPerCapita[\n",
    "    ElectricityPerCapita[\"Countries\"] == \"Korea. Republic of\"\n",
    "].index\n",
    "ElectricityPerCapita.loc[index_cc_KR, \"country_code\"] = \"KR\"\n",
    "\n",
    "index_cc_TR = ElectricityPerCapita[\n",
    "    ElectricityPerCapita[\"Countries\"] == \"Turkey\"\n",
    "].index\n",
    "ElectricityPerCapita.loc[index_cc_TR, \"country_code\"] = \"TR\""
   ]
  },
  {
   "cell_type": "code",
   "execution_count": null,
   "id": "16",
   "metadata": {},
   "outputs": [],
   "source": [
    "list_ids_gegis = []\n",
    "for i in range(len(ElectricityPerCapita)):\n",
    "    current_row = ElectricityPerCapita.iloc[i]\n",
    "\n",
    "    if current_row[\"country_code\"] in gegis_country_codes:\n",
    "        list_ids_gegis += [i]"
   ]
  },
  {
   "cell_type": "code",
   "execution_count": null,
   "id": "17",
   "metadata": {},
   "outputs": [],
   "source": [
    "ElectricityPerCapita = ElectricityPerCapita.iloc[list_ids_gegis]"
   ]
  },
  {
   "cell_type": "code",
   "execution_count": null,
   "id": "18",
   "metadata": {},
   "outputs": [],
   "source": [
    "# Drop manually found incorrect countries (usually territories)\n",
    "ElectricityPerCapita = ElectricityPerCapita.drop([207, 211, 220])"
   ]
  },
  {
   "cell_type": "code",
   "execution_count": null,
   "id": "19",
   "metadata": {},
   "outputs": [],
   "source": [
    "ElectricityPerCapita[[\"country_code\", 2015]]"
   ]
  },
  {
   "cell_type": "code",
   "execution_count": null,
   "id": "20",
   "metadata": {},
   "outputs": [],
   "source": [
    "toktarova_indices = ElectricityPerCapita.index"
   ]
  },
  {
   "cell_type": "code",
   "execution_count": null,
   "id": "21",
   "metadata": {},
   "outputs": [],
   "source": [
    "numpy.savetxt(\"./data/train/toktarova_indices.txt\", toktarova_indices)"
   ]
  },
  {
   "cell_type": "code",
   "execution_count": null,
   "id": "22",
   "metadata": {},
   "outputs": [],
   "source": [
    "ElectricityPerCapita_2015 = ElectricityPerCapita[[\"country_code\", 2015]].copy()\n",
    "ElectricityPerCapita_2015 = ElectricityPerCapita_2015.rename(\n",
    "    columns={2015: \"ElectricityPerCapita_2015\"}\n",
    ")"
   ]
  },
  {
   "cell_type": "code",
   "execution_count": null,
   "id": "23",
   "metadata": {},
   "outputs": [],
   "source": [
    "ElectricityPerCapita_2015.head()"
   ]
  },
  {
   "cell_type": "markdown",
   "id": "24",
   "metadata": {},
   "source": [
    "## (ii) purchase-power adjusted GDP "
   ]
  },
  {
   "cell_type": "code",
   "execution_count": null,
   "id": "25",
   "metadata": {},
   "outputs": [],
   "source": [
    "GDP_PPP = pandas.read_csv(\n",
    "    \"./data/toktarova_et_al_2019/GDPperCapita.csv\", index_col=0, header=1\n",
    ")"
   ]
  },
  {
   "cell_type": "code",
   "execution_count": null,
   "id": "26",
   "metadata": {},
   "outputs": [],
   "source": [
    "GDP_PPP.columns = [\n",
    "    int(float(col_name)) if col_name.split(\".\")[0].isdigit() else col_name\n",
    "    for col_name in GDP_PPP.columns\n",
    "]"
   ]
  },
  {
   "cell_type": "code",
   "execution_count": null,
   "id": "27",
   "metadata": {},
   "outputs": [],
   "source": [
    "GDP_PPP[2015].count()"
   ]
  },
  {
   "cell_type": "code",
   "execution_count": null,
   "id": "28",
   "metadata": {},
   "outputs": [],
   "source": [
    "GDP_PPP = GDP_PPP.loc[toktarova_indices]"
   ]
  },
  {
   "cell_type": "code",
   "execution_count": null,
   "id": "29",
   "metadata": {},
   "outputs": [],
   "source": [
    "GDP_PPP.insert(1, \"country_code\", ElectricityPerCapita[\"country_code\"])"
   ]
  },
  {
   "cell_type": "code",
   "execution_count": null,
   "id": "30",
   "metadata": {},
   "outputs": [],
   "source": [
    "GDP_PPP.head()"
   ]
  },
  {
   "cell_type": "code",
   "execution_count": null,
   "id": "31",
   "metadata": {},
   "outputs": [],
   "source": [
    "GDP_2015 = GDP_PPP[[\"country_code\", 2015]].copy()\n",
    "GDP_2015 = GDP_2015.rename(columns={2015: \"GDP_PPP_2015\"})"
   ]
  },
  {
   "cell_type": "code",
   "execution_count": null,
   "id": "32",
   "metadata": {},
   "outputs": [],
   "source": [
    "GDP_2015.head()"
   ]
  },
  {
   "cell_type": "markdown",
   "id": "33",
   "metadata": {},
   "source": [
    "### (iii) average hourly temperature profiles over the year in the 3 most densely populated areas of each country [35,36]"
   ]
  },
  {
   "cell_type": "code",
   "execution_count": null,
   "id": "34",
   "metadata": {},
   "outputs": [],
   "source": [
    "from dotenv import dotenv_values\n",
    "\n",
    "config = dotenv_values(\".env\")"
   ]
  },
  {
   "cell_type": "code",
   "execution_count": null,
   "id": "35",
   "metadata": {},
   "outputs": [],
   "source": [
    "# ETL/temperature\n",
    "storage_bucket = config[\"GCSBUCKET\"]"
   ]
  },
  {
   "cell_type": "code",
   "execution_count": null,
   "id": "36",
   "metadata": {},
   "outputs": [],
   "source": [
    "df_temperature_top_3 = pandas.DataFrame()\n",
    "for country_code in tqdm(\n",
    "    gegis_country_codes, desc=\"Processing countries\"\n",
    "):  # +\n",
    "    current_df = pandas.read_csv(\n",
    "        f\"{storage_bucket}/temperature/temperature_time_series_top_3_{country_code}_2015.csv\"\n",
    "    )\n",
    "    current_df = current_df.reset_index()\n",
    "    current_df[\"country_code\"] = country_code\n",
    "    df_temperature_top_3 = pandas.concat(\n",
    "        [df_temperature_top_3, current_df], ignore_index=True\n",
    "    )"
   ]
  },
  {
   "cell_type": "code",
   "execution_count": null,
   "id": "37",
   "metadata": {},
   "outputs": [],
   "source": [
    "df_temperature_top_3 = df_temperature_top_3.rename(\n",
    "    columns={\"Temperature (K)\": \"Temperature top_3 (K)\"}\n",
    ")"
   ]
  },
  {
   "cell_type": "code",
   "execution_count": null,
   "id": "38",
   "metadata": {},
   "outputs": [],
   "source": [
    "df_temperature_top_3.head()"
   ]
  },
  {
   "cell_type": "code",
   "execution_count": null,
   "id": "39",
   "metadata": {},
   "outputs": [],
   "source": [
    "df_temperature_top_3.to_parquet(\"./data/temperature_top_3.parquet\")"
   ]
  },
  {
   "cell_type": "code",
   "execution_count": null,
   "id": "40",
   "metadata": {},
   "outputs": [],
   "source": [
    "df_temperature_top_3 = pandas.read_parquet(\"./data/temperature_top_3.parquet\")"
   ]
  },
  {
   "cell_type": "markdown",
   "id": "41",
   "metadata": {},
   "source": [
    "## ETL/temperature\n",
    "\n",
    "(iv) the mean annual temperature level,\n",
    "\n",
    "(v) the 1st temperature percentile across the year (to represent how low the temperature dips go), (5th percentile in our case)\n",
    "\n",
    "(vi) the 99th percentile (to represent how high temperature spikes go), (95th percentile in our case)\n",
    "\n",
    "(vii) hour of the day,\n",
    "\n",
    "(viii) a weekday/weekend indicator,\n",
    "\n",
    "(ix) mean monthly temperature levels, and\n",
    "\n",
    "(x) a temperature-based ranking of months of the year"
   ]
  },
  {
   "cell_type": "code",
   "execution_count": null,
   "id": "42",
   "metadata": {},
   "outputs": [],
   "source": [
    "df_temperature_top_1 = pandas.DataFrame()\n",
    "for country_code in tqdm(\n",
    "    gegis_country_codes, desc=\"Processing countries\"\n",
    "):  # +\n",
    "    current_df = pandas.read_csv(\n",
    "        f\"{storage_bucket}/temperature/temperature_time_series_top_1_{country_code}_2015.csv\"\n",
    "    )\n",
    "    current_df = current_df.reset_index()\n",
    "    current_df[\"country_code\"] = country_code\n",
    "    df_temperature_top_1 = pandas.concat(\n",
    "        [df_temperature_top_1, current_df], ignore_index=True\n",
    "    )"
   ]
  },
  {
   "cell_type": "code",
   "execution_count": null,
   "id": "43",
   "metadata": {},
   "outputs": [],
   "source": [
    "df_temperature_top_1[\"weekend_indicator\"] = (\n",
    "    df_temperature_top_1[\"Local day of the week\"] >= 5\n",
    ").astype(int)"
   ]
  },
  {
   "cell_type": "code",
   "execution_count": null,
   "id": "44",
   "metadata": {},
   "outputs": [],
   "source": [
    "df_temperature_top_1.head()"
   ]
  },
  {
   "cell_type": "code",
   "execution_count": null,
   "id": "45",
   "metadata": {},
   "outputs": [],
   "source": [
    "df_temperature_top_1.to_parquet(\"./data/temperature_top_1.parquet\")"
   ]
  },
  {
   "cell_type": "code",
   "execution_count": null,
   "id": "46",
   "metadata": {},
   "outputs": [],
   "source": [
    "df_temperature_top_1 = pandas.read_parquet(\"./data/temperature_top_1.parquet\")"
   ]
  },
  {
   "cell_type": "markdown",
   "id": "47",
   "metadata": {},
   "source": [
    "## Target hourly electricity load data"
   ]
  },
  {
   "cell_type": "code",
   "execution_count": null,
   "id": "48",
   "metadata": {},
   "outputs": [],
   "source": [
    "Hourly_demand = pandas.read_csv(\n",
    "    \"./data/toktarova_et_al_2019/Real load hourly data.csv\",\n",
    "    index_col=0,\n",
    "    header=0,\n",
    ")"
   ]
  },
  {
   "cell_type": "code",
   "execution_count": null,
   "id": "49",
   "metadata": {},
   "outputs": [],
   "source": [
    "Hourly_demand = Hourly_demand.T"
   ]
  },
  {
   "cell_type": "code",
   "execution_count": null,
   "id": "50",
   "metadata": {},
   "outputs": [],
   "source": [
    "Hourly_demand.index = Hourly_demand.index.astype(int)"
   ]
  },
  {
   "cell_type": "code",
   "execution_count": null,
   "id": "51",
   "metadata": {},
   "outputs": [],
   "source": [
    "selected_hourly_demand = Hourly_demand.loc[toktarova_indices]"
   ]
  },
  {
   "cell_type": "code",
   "execution_count": null,
   "id": "52",
   "metadata": {},
   "outputs": [],
   "source": [
    "selected_hourly_demand.insert(\n",
    "    1, \"country_code\", ElectricityPerCapita[\"country_code\"]\n",
    ")"
   ]
  },
  {
   "cell_type": "code",
   "execution_count": null,
   "id": "53",
   "metadata": {},
   "outputs": [],
   "source": [
    "selected_hourly_demand.head()"
   ]
  },
  {
   "cell_type": "code",
   "execution_count": null,
   "id": "54",
   "metadata": {},
   "outputs": [],
   "source": [
    "selected_hourly_demand = selected_hourly_demand.drop(\n",
    "    columns=[\n",
    "        \"Electricity consumption\",\n",
    "        \"Countryname\",\n",
    "        \"annual electricity consumption in TWh\",\n",
    "        \"average\",\n",
    "        \"R\",\n",
    "        \"Psyn\",\n",
    "        \"Preal\",\n",
    "    ]\n",
    ")"
   ]
  },
  {
   "cell_type": "code",
   "execution_count": null,
   "id": "55",
   "metadata": {},
   "outputs": [],
   "source": [
    "selected_hourly_demand.columns"
   ]
  },
  {
   "cell_type": "code",
   "execution_count": null,
   "id": "56",
   "metadata": {},
   "outputs": [],
   "source": [
    "selected_hourly_demand.columns = [\n",
    "    int(col_name.split(\" \")[0].split(\"_\")[-1]) - 1\n",
    "    if col_name.split(\" \")[0].split(\"_\")[-1].isdigit()\n",
    "    else col_name\n",
    "    for col_name in selected_hourly_demand.columns\n",
    "]"
   ]
  },
  {
   "cell_type": "code",
   "execution_count": null,
   "id": "57",
   "metadata": {},
   "outputs": [],
   "source": [
    "selected_hourly_demand.head()"
   ]
  },
  {
   "cell_type": "code",
   "execution_count": null,
   "id": "58",
   "metadata": {},
   "outputs": [],
   "source": [
    "all_hourly_demand = pandas.DataFrame()\n",
    "\n",
    "for i in tqdm(range(len(selected_hourly_demand)), desc=\"Processing countries\"):\n",
    "    current_country_hourly_demand = pandas.DataFrame(\n",
    "        selected_hourly_demand.iloc[i, 1:]\n",
    "    )\n",
    "    current_country_hourly_demand.columns = [\"hourly_demand\"]\n",
    "\n",
    "    current_country_hourly_demand[\"country_code\"] = (\n",
    "        selected_hourly_demand.iloc[i, 0]\n",
    "    )\n",
    "    current_country_hourly_demand = current_country_hourly_demand.reset_index()\n",
    "\n",
    "    all_hourly_demand = pandas.concat(\n",
    "        [all_hourly_demand, current_country_hourly_demand], ignore_index=True\n",
    "    )"
   ]
  },
  {
   "cell_type": "code",
   "execution_count": null,
   "id": "59",
   "metadata": {},
   "outputs": [],
   "source": [
    "all_hourly_demand[\"country_code\"].unique()"
   ]
  },
  {
   "cell_type": "code",
   "execution_count": null,
   "id": "60",
   "metadata": {},
   "outputs": [],
   "source": [
    "# Recast to float\n",
    "all_hourly_demand[\"hourly_demand\"] = all_hourly_demand[\"hourly_demand\"].astype(\n",
    "    float\n",
    ")"
   ]
  },
  {
   "cell_type": "code",
   "execution_count": null,
   "id": "61",
   "metadata": {},
   "outputs": [],
   "source": [
    "# Calculate mean hourly demand per country\n",
    "country_mean_demand = all_hourly_demand.groupby(\"country_code\")[\n",
    "    \"hourly_demand\"\n",
    "].mean()\n",
    "\n",
    "# Normalize hourly demand using the mean\n",
    "all_hourly_demand[\"normalized_hourly_demand\"] = all_hourly_demand.apply(\n",
    "    lambda row: row[\"hourly_demand\"]\n",
    "    / country_mean_demand[row[\"country_code\"]],\n",
    "    axis=1,\n",
    ")\n",
    "\n",
    "# Verify the results\n",
    "all_hourly_demand.head()"
   ]
  },
  {
   "cell_type": "markdown",
   "id": "62",
   "metadata": {},
   "source": [
    "## Combine into a single dataframe for training"
   ]
  },
  {
   "cell_type": "code",
   "execution_count": null,
   "id": "63",
   "metadata": {},
   "outputs": [],
   "source": [
    "combined_dataset = pandas.merge(\n",
    "    all_hourly_demand, df_temperature_top_1, on=[\"country_code\", \"index\"]\n",
    ")"
   ]
  },
  {
   "cell_type": "code",
   "execution_count": null,
   "id": "64",
   "metadata": {},
   "outputs": [],
   "source": [
    "combined_dataset = pandas.merge(\n",
    "    combined_dataset,\n",
    "    df_temperature_top_3[[\"index\", \"country_code\", \"Temperature top_3 (K)\"]],\n",
    "    on=[\"country_code\", \"index\"],\n",
    ")"
   ]
  },
  {
   "cell_type": "code",
   "execution_count": null,
   "id": "65",
   "metadata": {},
   "outputs": [],
   "source": [
    "combined_dataset = pandas.merge(\n",
    "    combined_dataset, GDP_2015, on=[\"country_code\"]\n",
    ")\n",
    "combined_dataset = pandas.merge(\n",
    "    combined_dataset, ElectricityPerCapita_2015, on=[\"country_code\"]\n",
    ")"
   ]
  },
  {
   "cell_type": "code",
   "execution_count": null,
   "id": "66",
   "metadata": {},
   "outputs": [],
   "source": [
    "combined_dataset.columns"
   ]
  },
  {
   "cell_type": "code",
   "execution_count": null,
   "id": "67",
   "metadata": {},
   "outputs": [],
   "source": [
    "combined_dataset = combined_dataset.drop(\n",
    "    columns=[\n",
    "        \"index\",\n",
    "        \"Time (UTC)\",\n",
    "        \"Local day of the week\",\n",
    "        \"Local year\",\n",
    "        \"Temperature (K)\",\n",
    "        \"Annual average temperature (K)\",\n",
    "        \"hourly_demand\",\n",
    "    ],\n",
    ")\n",
    "# To get the same as GEGIS: https://github.com/niclasmattsson/GlobalEnergyGIS?tab=readme-ov-file#synthetic-demand-list-of-training-variables"
   ]
  },
  {
   "cell_type": "code",
   "execution_count": null,
   "id": "68",
   "metadata": {},
   "outputs": [],
   "source": [
    "combined_dataset = combined_dataset.rename(\n",
    "    columns={\n",
    "        \"GDP_PPP_2015\": \"GDP_PPP\",\n",
    "        \"ElectricityPerCapita_2015\": \"ElectricityPerCapita\",\n",
    "    }\n",
    ")"
   ]
  },
  {
   "cell_type": "code",
   "execution_count": null,
   "id": "69",
   "metadata": {},
   "outputs": [],
   "source": [
    "combined_dataset.head()"
   ]
  },
  {
   "cell_type": "code",
   "execution_count": null,
   "id": "70",
   "metadata": {},
   "outputs": [],
   "source": [
    "combined_dataset.to_parquet(\"./data/train/train_dataset.parquet\")"
   ]
  },
  {
   "cell_type": "code",
   "execution_count": null,
   "id": "71",
   "metadata": {},
   "outputs": [],
   "source": [
    "combined_dataset = pandas.read_parquet(\"./data/train/train_dataset.parquet\")"
   ]
  },
  {
   "cell_type": "markdown",
   "id": "72",
   "metadata": {},
   "source": [
    "### Model"
   ]
  },
  {
   "cell_type": "code",
   "execution_count": null,
   "id": "73",
   "metadata": {},
   "outputs": [],
   "source": [
    "from xgboost import XGBRegressor"
   ]
  },
  {
   "cell_type": "code",
   "execution_count": null,
   "id": "74",
   "metadata": {},
   "outputs": [],
   "source": [
    "features = combined_dataset.drop(\n",
    "    columns=[\"normalized_hourly_demand\", \"country_code\"]\n",
    ")\n",
    "target = combined_dataset[\"normalized_hourly_demand\"]\n",
    "groups = combined_dataset[\"country_code\"]"
   ]
  },
  {
   "cell_type": "code",
   "execution_count": null,
   "id": "75",
   "metadata": {},
   "outputs": [],
   "source": [
    "features.head()"
   ]
  },
  {
   "cell_type": "code",
   "execution_count": null,
   "id": "76",
   "metadata": {},
   "outputs": [],
   "source": [
    "features.columns = [\n",
    "    \"hour\",\n",
    "    \"month\",\n",
    "    \"month_temp_avg\",\n",
    "    \"month_temp_rank\",\n",
    "    \"year_temp_percentile_5\",\n",
    "    \"year_temp_percentile_95\",\n",
    "    \"is_weekend\",\n",
    "    \"year_temp_top3\",\n",
    "    \"year_gdp_ppp\",\n",
    "    \"year_electricity_demand_per_capita\",\n",
    "]\n",
    "\n",
    "# Reindex to new column order\n",
    "new_order = [\n",
    "    \"is_weekend\",\n",
    "    \"hour\",\n",
    "    \"month\",\n",
    "    \"month_temp_avg\",\n",
    "    \"month_temp_rank\",\n",
    "    \"year_electricity_demand_per_capita\",\n",
    "    \"year_gdp_ppp\",\n",
    "    \"year_temp_percentile_5\",\n",
    "    \"year_temp_percentile_95\",\n",
    "    \"year_temp_top3\",\n",
    "]\n",
    "features = features.reindex(columns=new_order)"
   ]
  },
  {
   "cell_type": "code",
   "execution_count": null,
   "id": "77",
   "metadata": {},
   "outputs": [],
   "source": [
    "features.head()"
   ]
  },
  {
   "cell_type": "code",
   "execution_count": null,
   "id": "78",
   "metadata": {},
   "outputs": [],
   "source": [
    "target.head()"
   ]
  },
  {
   "cell_type": "code",
   "execution_count": null,
   "id": "79",
   "metadata": {},
   "outputs": [],
   "source": [
    "# Initialize the XGBoost regressor\n",
    "xgb_model = XGBRegressor(random_state=42)"
   ]
  },
  {
   "cell_type": "code",
   "execution_count": null,
   "id": "80",
   "metadata": {},
   "outputs": [],
   "source": [
    "# Train the model\n",
    "xgb_model.fit(features, target)"
   ]
  },
  {
   "cell_type": "code",
   "execution_count": null,
   "id": "81",
   "metadata": {},
   "outputs": [],
   "source": [
    "xgb_model.save_model(\"./data/train/xgboost_model.bin\")"
   ]
  },
  {
   "cell_type": "markdown",
   "id": "82",
   "metadata": {},
   "source": [
    "### Visualizations"
   ]
  },
  {
   "cell_type": "code",
   "execution_count": null,
   "id": "83",
   "metadata": {},
   "outputs": [],
   "source": [
    "# Get feature importance\n",
    "importance = xgb_model.feature_importances_\n",
    "feature_names = features.columns\n",
    "\n",
    "# Sort features by importance\n",
    "indices = numpy.argsort(importance)\n",
    "\n",
    "# Plot feature importance\n",
    "plt.figure(figsize=(10, 6))\n",
    "plt.title(\"Feature Importance\")\n",
    "plt.barh(range(len(importance)), importance[indices], color=\"skyblue\")\n",
    "plt.yticks(range(len(importance)), [feature_names[i] for i in indices])\n",
    "plt.xlabel(\"Importance\")\n",
    "plt.tight_layout()\n",
    "\n",
    "plt.savefig(\n",
    "    os.path.join(figure_directory, \"feature_importance.png\"),\n",
    "    dpi=300,\n",
    "    bbox_inches=\"tight\",\n",
    ")\n",
    "plt.show()"
   ]
  },
  {
   "cell_type": "markdown",
   "id": "84",
   "metadata": {},
   "source": [
    "## Cross-validation\n",
    "\n",
    "Validate the approach by performing k-fold cross-validation."
   ]
  },
  {
   "cell_type": "code",
   "execution_count": null,
   "id": "85",
   "metadata": {},
   "outputs": [],
   "source": [
    "from sklearn.model_selection import LeaveOneGroupOut, cross_validate"
   ]
  },
  {
   "cell_type": "code",
   "execution_count": null,
   "id": "86",
   "metadata": {},
   "outputs": [],
   "source": [
    "combined_dataset[\"country_code\"].unique()"
   ]
  },
  {
   "cell_type": "code",
   "execution_count": null,
   "id": "87",
   "metadata": {},
   "outputs": [],
   "source": [
    "# Perform cross-validation\n",
    "cv_results = cross_validate(\n",
    "    xgb_model,\n",
    "    features,\n",
    "    target,\n",
    "    groups=groups,\n",
    "    cv=LeaveOneGroupOut(),\n",
    "    scoring=[\"neg_mean_absolute_error\"],\n",
    "    return_train_score=True,\n",
    "    return_indices=True,\n",
    "    return_estimator=True,\n",
    "    n_jobs=-1,\n",
    ")"
   ]
  },
  {
   "cell_type": "code",
   "execution_count": null,
   "id": "88",
   "metadata": {},
   "outputs": [],
   "source": [
    "cv_results.keys()"
   ]
  },
  {
   "cell_type": "code",
   "execution_count": null,
   "id": "89",
   "metadata": {},
   "outputs": [],
   "source": [
    "cv_results"
   ]
  },
  {
   "cell_type": "code",
   "execution_count": null,
   "id": "90",
   "metadata": {},
   "outputs": [],
   "source": [
    "cv_results[\"indices_train\"] = cv_results[\"indices\"][\"train\"]\n",
    "cv_results[\"indices_test\"] = cv_results[\"indices\"][\"test\"]"
   ]
  },
  {
   "cell_type": "code",
   "execution_count": null,
   "id": "91",
   "metadata": {},
   "outputs": [],
   "source": [
    "# Assuming 'cv_results' is your original dictionary and\n",
    "# 'indices' is the key you want to exclude\n",
    "cv_results_filtered = {k: v for k, v in cv_results.items() if k != \"indices\"}\n",
    "\n",
    "# Create DataFrame from the filtered dictionary\n",
    "df_cv_results = pandas.DataFrame(cv_results_filtered)\n",
    "\n",
    "df_cv_results[\"test_mae\"] = -df_cv_results[\"test_neg_mean_absolute_error\"]\n",
    "df_cv_results[\"train_mae\"] = -df_cv_results[\"train_neg_mean_absolute_error\"]"
   ]
  },
  {
   "cell_type": "code",
   "execution_count": null,
   "id": "92",
   "metadata": {},
   "outputs": [],
   "source": [
    "list_test_group_id = []\n",
    "for test_indices in cv_results[\"indices\"][\"test\"]:\n",
    "    list_test_group_id.append(groups[test_indices[0]])\n",
    "\n",
    "df_cv_results[\"group_id\"] = list_test_group_id"
   ]
  },
  {
   "cell_type": "code",
   "execution_count": null,
   "id": "93",
   "metadata": {},
   "outputs": [],
   "source": [
    "df_cv_results.head()"
   ]
  },
  {
   "cell_type": "markdown",
   "id": "94",
   "metadata": {},
   "source": [
    "### Visualizations"
   ]
  },
  {
   "cell_type": "code",
   "execution_count": null,
   "id": "95",
   "metadata": {},
   "outputs": [],
   "source": [
    "def plot_cv_timeseries(features, target, country_cv_results):\n",
    "    \"\"\"\n",
    "    Plot the actual vs predicted hourly demand for a country timeseries.\n",
    "\n",
    "    Parameters\n",
    "    ----------\n",
    "    features (pandas.DataFrame):\n",
    "        Features for the hourly demand prediction.\n",
    "    target (pandas.Series):\n",
    "        Ground truth hourly demand.\n",
    "    country_cv_results (dict):\n",
    "        Dictionary containing the results from cross validation.\n",
    "    \"\"\"\n",
    "    current_estimator = country_cv_results[\"estimator\"]\n",
    "    current_country_features = features.iloc[\n",
    "        country_cv_results[\"indices_test\"]\n",
    "    ]\n",
    "\n",
    "    country_predictions = current_estimator.predict(current_country_features)\n",
    "    country_ground_truth = target.iloc[country_cv_results[\"indices_test\"]]\n",
    "\n",
    "    # Create a new figure\n",
    "    plt.figure(figsize=(15, 8))\n",
    "\n",
    "    # Plot the ground truth\n",
    "    plt.plot(\n",
    "        country_ground_truth.values,\n",
    "        label=\"Ground Truth\",\n",
    "        color=\"lightgreen\",\n",
    "        alpha=0.7,\n",
    "    )\n",
    "\n",
    "    # Plot the predictions\n",
    "    plt.plot(\n",
    "        country_predictions, label=\"Predictions\", color=\"skyblue\", alpha=0.7\n",
    "    )\n",
    "\n",
    "    # Plot the absolute difference between predictions and ground truth\n",
    "    plt.bar(\n",
    "        numpy.arange(0, 8760),\n",
    "        abs(country_predictions - country_ground_truth).values,\n",
    "        label=\"Difference\",\n",
    "        color=\"lightcoral\",\n",
    "        alpha=0.7,\n",
    "    )\n",
    "\n",
    "    country_code = country_cv_results[\"group_id\"]\n",
    "    plt.title(f\"{country_code}: Actual vs Predicted Hourly Demand\")\n",
    "\n",
    "    plt.ylabel(\"Normalized Hourly Demand\")\n",
    "    plt.ylim(0, 2)\n",
    "    plt.legend(loc=\"upper right\")\n",
    "\n",
    "    plt.xticks(\n",
    "        numpy.arange(0, 8761, 730), numpy.arange(0, 13)\n",
    "    )  # 730 hours ≈ 1 month\n",
    "    plt.xlabel(\"Months\")\n",
    "\n",
    "    # Add grid for better readability\n",
    "    plt.grid(True, linestyle=\"--\", alpha=0.2)\n",
    "\n",
    "    # Improve layout\n",
    "    # plt.tight_layout()\n",
    "\n",
    "    # Save the figure\n",
    "    plt.savefig(\n",
    "        os.path.join(figure_directory, f\"{country_code}_cv_comparison.png\"),\n",
    "        dpi=300,\n",
    "        bbox_inches=\"tight\",\n",
    "    )\n",
    "    plt.close()"
   ]
  },
  {
   "cell_type": "code",
   "execution_count": null,
   "id": "96",
   "metadata": {},
   "outputs": [],
   "source": [
    "for _, row in tqdm(\n",
    "    df_cv_results.iterrows(),\n",
    "    desc=\"Plotting cross-validation timeseries\",\n",
    "    total=len(df_cv_results),\n",
    "):\n",
    "    plot_cv_timeseries(features, target, row)"
   ]
  },
  {
   "cell_type": "code",
   "execution_count": null,
   "id": "97",
   "metadata": {},
   "outputs": [],
   "source": [
    "# Plot the cross-validation test set error metrics\n",
    "\n",
    "df_sorted = df_cv_results.sort_values(\"test_mae\")\n",
    "\n",
    "# Create the bar plot\n",
    "fig, ax = plt.subplots(figsize=(15, 8))\n",
    "bars = ax.bar(range(len(df_sorted)), df_sorted[\"test_mae\"], color=\"skyblue\")\n",
    "x = numpy.arange(len(df_sorted))\n",
    "\n",
    "# Customize the plot\n",
    "ax.set_xlabel(\"Countries\")\n",
    "ax.set_ylabel(\"Mean Absolute Error\")\n",
    "ax.set_title(\"Cross-validation: Mean Absolute Error by Country\")\n",
    "ax.set_xticks(x)\n",
    "ax.set_xticklabels(df_sorted[\"group_id\"])\n",
    "\n",
    "\n",
    "plt.tight_layout()\n",
    "\n",
    "plt.savefig(\n",
    "    os.path.join(figure_directory, \"cv_mae_per_country.png\"),\n",
    "    dpi=300,\n",
    "    bbox_inches=\"tight\",\n",
    ")\n",
    "plt.show()"
   ]
  },
  {
   "cell_type": "code",
   "execution_count": null,
   "id": "98",
   "metadata": {},
   "outputs": [],
   "source": [
    "# Plot comparison between train and test error metrics\n",
    "\n",
    "df_sorted = df_cv_results.sort_values(\"test_mae\")\n",
    "\n",
    "# Create the bar plot\n",
    "fig, ax = plt.subplots(figsize=(15, 8))\n",
    "\n",
    "width = 0.35\n",
    "x = numpy.arange(len(df_sorted))\n",
    "\n",
    "# Create the bars\n",
    "bars1 = ax.bar(\n",
    "    x - width / 2,\n",
    "    df_sorted[\"test_mae\"],\n",
    "    width,\n",
    "    label=\"Test MAE\",\n",
    "    color=\"skyblue\",\n",
    ")\n",
    "bars2 = ax.bar(\n",
    "    x + width / 2,\n",
    "    df_sorted[\"train_mae\"],\n",
    "    width,\n",
    "    label=\"Train MAE\",\n",
    "    color=\"lightgreen\",\n",
    ")\n",
    "\n",
    "# Customize the plot\n",
    "ax.set_xlabel(\"Countries\")\n",
    "ax.set_ylabel(\"Mean Absolute Error\")\n",
    "ax.set_title(\"Cross-validation: Comparison of MAE Train vs Test\")\n",
    "ax.set_xticks(x)\n",
    "ax.set_xticklabels(df_sorted[\"group_id\"])\n",
    "\n",
    "\n",
    "plt.legend()\n",
    "plt.tight_layout()\n",
    "\n",
    "plt.savefig(\n",
    "    os.path.join(figure_directory, \"cv_mae_comparison.png\"),\n",
    "    dpi=300,\n",
    "    bbox_inches=\"tight\",\n",
    ")\n",
    "plt.show()"
   ]
  },
  {
   "cell_type": "markdown",
   "id": "99",
   "metadata": {},
   "source": [
    "## Inference"
   ]
  },
  {
   "cell_type": "code",
   "execution_count": null,
   "id": "100",
   "metadata": {},
   "outputs": [],
   "source": [
    "# Use the weather year of 2015, same as the training dataset\n",
    "weather_dataset = pandas.read_parquet(\"./data/train/train_dataset.parquet\")\n",
    "\n",
    "# Drop unnecessary columns\n",
    "weather_dataset = weather_dataset.drop(\n",
    "    columns=[\n",
    "        \"normalized_hourly_demand\",\n",
    "        \"GDP_PPP\",\n",
    "        \"ElectricityPerCapita\",\n",
    "    ]\n",
    ")"
   ]
  },
  {
   "cell_type": "code",
   "execution_count": null,
   "id": "101",
   "metadata": {},
   "outputs": [],
   "source": [
    "weather_dataset.shape"
   ]
  },
  {
   "cell_type": "code",
   "execution_count": null,
   "id": "102",
   "metadata": {},
   "outputs": [],
   "source": [
    "weather_dataset.columns"
   ]
  },
  {
   "cell_type": "code",
   "execution_count": null,
   "id": "103",
   "metadata": {},
   "outputs": [],
   "source": [
    "weather_dataset.head()"
   ]
  },
  {
   "cell_type": "code",
   "execution_count": null,
   "id": "104",
   "metadata": {},
   "outputs": [],
   "source": [
    "def get_year_ElectricityPerCapita(\n",
    "    year: int, df_EPC: pandas.DataFrame\n",
    ") -> pandas.DataFrame:\n",
    "    \"\"\"\n",
    "    Get the electricity per capita for a given year.\n",
    "\n",
    "    Parameters\n",
    "    ----------\n",
    "    year : int\n",
    "        The year for which to get the electricity per capita.\n",
    "    df_EPC : pandas.DataFrame\n",
    "        The DataFrame containing all electricity per capita data.\n",
    "\n",
    "    Returns\n",
    "    -------\n",
    "    pandas.DataFrame\n",
    "        A DataFrame with the electricity per capita for the given year.\n",
    "    \"\"\"\n",
    "    df_result = df_EPC[[\"country_code\", year]].copy()\n",
    "    df_result = df_result.rename(columns={year: \"ElectricityPerCapita\"})\n",
    "    return df_result"
   ]
  },
  {
   "cell_type": "code",
   "execution_count": null,
   "id": "105",
   "metadata": {},
   "outputs": [],
   "source": [
    "def get_year_GDP_PPP(\n",
    "    year: int, df_GDP_PPP: pandas.DataFrame\n",
    ") -> pandas.DataFrame:\n",
    "    \"\"\"\n",
    "    Get the GDP per capita for a given year.\n",
    "\n",
    "    Parameters\n",
    "    ----------\n",
    "    year : int\n",
    "        The year for which to get the GDP per capita.\n",
    "    df_GDP_PPP : pandas.DataFrame\n",
    "        The DataFrame containing the GDP per capita data.\n",
    "\n",
    "    Returns\n",
    "    -------\n",
    "    pandas.DataFrame\n",
    "        A DataFrame with the GDP per capita for the given year.\n",
    "    \"\"\"\n",
    "    df_result = df_GDP_PPP[[\"country_code\", year]].copy()\n",
    "    df_result = df_result.rename(columns={year: \"GDP_PPP\"})\n",
    "    return df_result"
   ]
  },
  {
   "cell_type": "code",
   "execution_count": null,
   "id": "106",
   "metadata": {},
   "outputs": [],
   "source": [
    "future_prediction_years = numpy.arange(2020, 2100 + 1, 5)\n",
    "\n",
    "df_all_prediction_data = pandas.DataFrame()\n",
    "for year in future_prediction_years:\n",
    "    df_GDP_PPP_current_year = get_year_GDP_PPP(year, GDP_PPP)\n",
    "\n",
    "    # Merge GDP with combined weather + electricity per capita data\n",
    "    df_combine_weather_GDP = pandas.merge(\n",
    "        weather_dataset, df_GDP_PPP_current_year, on=[\"country_code\"]\n",
    "    ).copy()\n",
    "\n",
    "    df_EPC_current_year = get_year_ElectricityPerCapita(\n",
    "        year, ElectricityPerCapita\n",
    "    )\n",
    "    df_EPC_current_year[\"year\"] = year\n",
    "\n",
    "    # Merge electricity per capita with weather data\n",
    "    df_combine_weather_GDP_EDP = pandas.merge(\n",
    "        df_combine_weather_GDP, df_EPC_current_year, on=[\"country_code\"]\n",
    "    ).copy()\n",
    "\n",
    "    df_all_prediction_data = pandas.concat(\n",
    "        [df_all_prediction_data, df_combine_weather_GDP_EDP], ignore_index=True\n",
    "    )"
   ]
  },
  {
   "cell_type": "code",
   "execution_count": null,
   "id": "107",
   "metadata": {},
   "outputs": [],
   "source": [
    "df_all_prediction_data.shape"
   ]
  },
  {
   "cell_type": "code",
   "execution_count": null,
   "id": "108",
   "metadata": {},
   "outputs": [],
   "source": [
    "df_all_prediction_data.head()"
   ]
  },
  {
   "cell_type": "code",
   "execution_count": null,
   "id": "109",
   "metadata": {},
   "outputs": [],
   "source": [
    "df_all_prediction_data.columns = [\n",
    "    \"country_code\",\n",
    "    \"hour\",\n",
    "    \"month\",\n",
    "    \"month_temp_avg\",\n",
    "    \"month_temp_rank\",\n",
    "    \"year_temp_percentile_5\",\n",
    "    \"year_temp_percentile_95\",\n",
    "    \"is_weekend\",\n",
    "    \"year_temp_top3\",\n",
    "    \"year_gdp_ppp\",\n",
    "    \"year_electricity_demand_per_capita\",\n",
    "    \"year\",\n",
    "]\n",
    "\n",
    "# Reindex to new column order\n",
    "new_order = [\n",
    "    \"country_code\",\n",
    "    \"is_weekend\",\n",
    "    \"hour\",\n",
    "    \"month\",\n",
    "    \"month_temp_avg\",\n",
    "    \"month_temp_rank\",\n",
    "    \"year_electricity_demand_per_capita\",\n",
    "    \"year_gdp_ppp\",\n",
    "    \"year_temp_percentile_5\",\n",
    "    \"year_temp_percentile_95\",\n",
    "    \"year_temp_top3\",\n",
    "    \"year\",\n",
    "]\n",
    "df_all_prediction_data = df_all_prediction_data.reindex(columns=new_order)"
   ]
  },
  {
   "cell_type": "code",
   "execution_count": null,
   "id": "110",
   "metadata": {},
   "outputs": [],
   "source": [
    "df_all_prediction_data.head()"
   ]
  },
  {
   "cell_type": "code",
   "execution_count": null,
   "id": "111",
   "metadata": {},
   "outputs": [],
   "source": [
    "trained_xgb_model = XGBRegressor()\n",
    "trained_xgb_model.load_model(\"./data/train/xgboost_model.bin\")"
   ]
  },
  {
   "cell_type": "code",
   "execution_count": null,
   "id": "112",
   "metadata": {},
   "outputs": [],
   "source": [
    "df_all_prediction_data[\"prediction\"] = trained_xgb_model.predict(\n",
    "    df_all_prediction_data.loc[\n",
    "        :, ~df_all_prediction_data.columns.isin([\"country_code\", \"year\"])\n",
    "    ]\n",
    ")"
   ]
  },
  {
   "cell_type": "code",
   "execution_count": null,
   "id": "113",
   "metadata": {},
   "outputs": [],
   "source": [
    "df_all_prediction_data"
   ]
  },
  {
   "cell_type": "code",
   "execution_count": null,
   "id": "114",
   "metadata": {},
   "outputs": [],
   "source": [
    "os.makedirs(\"./data/predictions\", exist_ok=True)"
   ]
  },
  {
   "cell_type": "code",
   "execution_count": null,
   "id": "115",
   "metadata": {},
   "outputs": [],
   "source": [
    "# df_all_prediction_data.to_parquet(\n",
    "#     \"./predictions/predictions_2020_2100.parquet\"\n",
    "#     )"
   ]
  },
  {
   "cell_type": "code",
   "execution_count": null,
   "id": "116",
   "metadata": {},
   "outputs": [],
   "source": [
    "# Get annual demand for the selected countries\n",
    "df_annual_demand = pandas.read_csv(\n",
    "    \"./data/toktarova_et_al_2019/AnnualDemand.csv\", index_col=0, header=1\n",
    ")"
   ]
  },
  {
   "cell_type": "code",
   "execution_count": null,
   "id": "117",
   "metadata": {},
   "outputs": [],
   "source": [
    "df_annual_demand.columns = [\n",
    "    int(float(col_name)) if col_name.split(\".\")[0].isdigit() else col_name\n",
    "    for col_name in df_annual_demand.columns\n",
    "]"
   ]
  },
  {
   "cell_type": "code",
   "execution_count": null,
   "id": "118",
   "metadata": {},
   "outputs": [],
   "source": [
    "toktarova_indices = numpy.loadtxt(\"./data/train/toktarova_indices.txt\")"
   ]
  },
  {
   "cell_type": "code",
   "execution_count": null,
   "id": "119",
   "metadata": {},
   "outputs": [],
   "source": [
    "df_sel_annual_demand = df_annual_demand.loc[toktarova_indices]"
   ]
  },
  {
   "cell_type": "code",
   "execution_count": null,
   "id": "120",
   "metadata": {},
   "outputs": [],
   "source": [
    "df_sel_annual_demand.insert(\n",
    "    1, \"country_code\", ElectricityPerCapita[\"country_code\"]\n",
    ")"
   ]
  },
  {
   "cell_type": "code",
   "execution_count": null,
   "id": "121",
   "metadata": {},
   "outputs": [],
   "source": [
    "df_sel_annual_demand = df_sel_annual_demand.dropna(axis=1)"
   ]
  },
  {
   "cell_type": "code",
   "execution_count": null,
   "id": "122",
   "metadata": {},
   "outputs": [],
   "source": [
    "df_sel_annual_demand.head()"
   ]
  },
  {
   "cell_type": "code",
   "execution_count": null,
   "id": "123",
   "metadata": {},
   "outputs": [],
   "source": [
    "for year in range(2015, 2100 + 1):\n",
    "    # Multiply by 1 million to get MW, divide by hours in a year\n",
    "    df_sel_annual_demand[f\"{year}_mean\"] = (\n",
    "        df_sel_annual_demand[[year]].mul(1000000).div(8760).copy()\n",
    "    )"
   ]
  },
  {
   "cell_type": "code",
   "execution_count": null,
   "id": "124",
   "metadata": {},
   "outputs": [],
   "source": [
    "df_sel_annual_demand.head()"
   ]
  },
  {
   "cell_type": "code",
   "execution_count": null,
   "id": "125",
   "metadata": {},
   "outputs": [],
   "source": [
    "list_countries = df_all_prediction_data[\"country_code\"].unique()\n",
    "list_years = df_all_prediction_data[\"year\"].unique()"
   ]
  },
  {
   "cell_type": "code",
   "execution_count": null,
   "id": "126",
   "metadata": {},
   "outputs": [],
   "source": [
    "list_years_col = [str(year) + \"_mean\" for year in list_years]"
   ]
  },
  {
   "cell_type": "code",
   "execution_count": null,
   "id": "127",
   "metadata": {},
   "outputs": [],
   "source": [
    "df_sel_mean_annual_demand = df_sel_annual_demand[\n",
    "    [\"country_code\"] + list_years_col\n",
    "]"
   ]
  },
  {
   "cell_type": "code",
   "execution_count": null,
   "id": "128",
   "metadata": {},
   "outputs": [],
   "source": [
    "df_sel_mean_annual_demand[df_sel_mean_annual_demand[\"country_code\"] == \"BR\"]"
   ]
  },
  {
   "cell_type": "code",
   "execution_count": null,
   "id": "129",
   "metadata": {},
   "outputs": [],
   "source": [
    "for country in tqdm(list_countries):\n",
    "    df_country_predictions = df_all_prediction_data[\n",
    "        df_all_prediction_data[\"country_code\"] == country\n",
    "    ].copy()\n",
    "\n",
    "    df_country_annual_demand = df_sel_mean_annual_demand[\n",
    "        df_sel_mean_annual_demand[\"country_code\"] == country\n",
    "    ]\n",
    "\n",
    "    # Add a new column 'hour_of_year' that increments within each year\n",
    "    df_country_predictions[\"hour_of_year\"] = df_country_predictions.groupby(\n",
    "        \"year\"\n",
    "    ).cumcount()\n",
    "\n",
    "    df_country_selection = df_country_predictions[\n",
    "        [\"country_code\", \"year\", \"hour_of_year\", \"prediction\"]\n",
    "    ].copy()\n",
    "\n",
    "    # Multiply the predictions by the mean annual demand\n",
    "    for year in future_prediction_years:\n",
    "        year_mean_demand = df_country_annual_demand[f\"{year}_mean\"].to_numpy()[\n",
    "            0\n",
    "        ]\n",
    "        mask = df_country_selection[\"year\"] == year\n",
    "        df_country_selection.loc[mask, \"prediction\"] *= year_mean_demand\n",
    "\n",
    "    df_country_selection.to_parquet(\n",
    "        f\"./data/predictions/{country}_{future_prediction_years.min()}_to_{future_prediction_years.max()}.parquet\",\n",
    "        index=False,\n",
    "    )"
   ]
  }
 ],
 "metadata": {
  "kernelspec": {
   "display_name": "Python 3 (ipykernel)",
   "language": "python",
   "name": "python3"
  },
  "language_info": {
   "codemirror_mode": {
    "name": "ipython",
    "version": 3
   },
   "file_extension": ".py",
   "mimetype": "text/x-python",
   "name": "python",
   "nbconvert_exporter": "python",
   "pygments_lexer": "ipython3",
   "version": "3.12.11"
  }
 },
 "nbformat": 4,
 "nbformat_minor": 5
}
